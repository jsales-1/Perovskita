{
 "cells": [
  {
   "cell_type": "code",
   "execution_count": 1,
   "metadata": {},
   "outputs": [],
   "source": [
    "import pandas as pd\n",
    "import numpy as np\n",
    "import re\n",
    "import networkx as nx\n",
    "import matplotlib.pyplot as plt"
   ]
  },
  {
   "cell_type": "code",
   "execution_count": 2,
   "metadata": {},
   "outputs": [
    {
     "name": "stderr",
     "output_type": "stream",
     "text": [
      "/tmp/ipykernel_3839094/2947361084.py:1: DtypeWarning: Columns (3,4,5,7,8,11,19,37,43,48,51,53,59,60,61,69) have mixed types. Specify dtype option on import or set low_memory=False.\n",
      "  df = pd.read_csv(\"../Dataset/df_final_oficial_concatenado_com_referencias.csv\")\n"
     ]
    }
   ],
   "source": [
    "df = pd.read_csv(\"../Dataset/df_final_oficial_concatenado_com_referencias.csv\")"
   ]
  },
  {
   "cell_type": "code",
   "execution_count": 88,
   "metadata": {},
   "outputs": [],
   "source": [
    "drops = ['DOI','Abstract','Cited References']\n",
    "df_dropped = df.dropna(subset=drops)\n",
    "df_dropped = df_dropped.head(10)"
   ]
  },
  {
   "cell_type": "code",
   "execution_count": 110,
   "metadata": {},
   "outputs": [],
   "source": [
    "def articles_to_dict(df,remove_unknow_articles:bool=False):\n",
    "    dictionary = {}\n",
    "    index = df.index\n",
    "    df_dois = \"DOI \" + df['DOI'].str.upper()\n",
    "    df_dois_list = list(df_dois)\n",
    "    max_index = index[-1]\n",
    "    for i in index:\n",
    "        print(f\"Progresso:{i} de {max_index}\",end='\\r')\n",
    "        cited_references = df['Cited References'][i]\n",
    "        collected_dois = re.findall(r'DOI [^;]+;', cited_references)\n",
    "        \n",
    "        collected_dois_correction = []\n",
    "        for j in collected_dois:\n",
    "            doi = j.removesuffix(\";\").upper()\n",
    "            if \"DOI [\" in doi:\n",
    "                doi_list_str = doi.removeprefix(\"DOI [\").replace(']','').replace(',','').split()                \n",
    "                doi = f\"DOI {doi_list_str[0]}\"\n",
    "                \n",
    "            if remove_unknow_articles:\n",
    "                if doi in df_dois_list:\n",
    "                    collected_dois_correction.append(doi)\n",
    "                else:\n",
    "                    continue\n",
    "                \n",
    "            if not remove_unknow_articles:\n",
    "                collected_dois_correction.append(doi)\n",
    "        \n",
    "        doi_key = df_dois[i].upper()\n",
    "        dictionary[doi_key] = collected_dois_correction\n",
    "        \n",
    "    return dictionary\n",
    "\n",
    "\n",
    "def find_groups(graph,dictionary:dict,save_csv:bool=False,save_name='any',\n",
    "                print_progress:bool=False,n_step_progress:int=1):\n",
    "   \n",
    "    connections = list(nx.connected_components(graph))\n",
    "    groups_dictionary = {}\n",
    "    all_cited_articles = list(dictionary.keys())\n",
    "\n",
    "    if print_progress:\n",
    "        print(\"Processo inicial feito\")\n",
    "\n",
    "\n",
    "    for i,group in enumerate(connections):\n",
    "        articles = []\n",
    "        for j,article in enumerate(group):\n",
    "            if article in all_cited_articles:\n",
    "                articles.append(article)\n",
    "            if print_progress and (j+1)%n_step_progress == 0:\n",
    "                print(f\"Progresso: {j+1} de {len(group)}, em {i+1} de {len(connections)}\",end='\\r')\n",
    "        if print_progress:\n",
    "            print(f\"\\n Tamanho do grupo:{len(articles)}\")\n",
    "        groups_dictionary[f\"Grupo {i+1}\"] = articles\n",
    "\n",
    "    if save_csv:\n",
    "        print(\"Saving dataset\")\n",
    "        df = pd.DataFrame(dict([(k, pd.Series(v)) for k, v in groups_dictionary.items()]))\n",
    "        df.to_csv(f'{save_name}.csv', index=False, encoding='utf-8')\n",
    "\n",
    "\n",
    "    return groups_dictionary\n",
    "   "
   ]
  },
  {
   "cell_type": "code",
   "execution_count": 111,
   "metadata": {},
   "outputs": [
    {
     "name": "stdout",
     "output_type": "stream",
     "text": [
      "Progresso:9 de 9\r"
     ]
    }
   ],
   "source": [
    "dicionario = articles_to_dict(df_dropped,True)\n",
    "grafo = nx.Graph(dicionario)"
   ]
  },
  {
   "cell_type": "code",
   "execution_count": 112,
   "metadata": {},
   "outputs": [
    {
     "name": "stdout",
     "output_type": "stream",
     "text": [
      "Processo inicial feito\n",
      "Progresso: 2 de 2, em 1 de 9\n",
      " Tamanho do grupo:2\n",
      "Progresso: 1 de 1, em 2 de 9\n",
      " Tamanho do grupo:1\n",
      "Progresso: 1 de 1, em 3 de 9\n",
      " Tamanho do grupo:1\n",
      "Progresso: 1 de 1, em 4 de 9\n",
      " Tamanho do grupo:1\n",
      "Progresso: 1 de 1, em 5 de 9\n",
      " Tamanho do grupo:1\n",
      "Progresso: 1 de 1, em 6 de 9\n",
      " Tamanho do grupo:1\n",
      "Progresso: 1 de 1, em 7 de 9\n",
      " Tamanho do grupo:1\n",
      "Progresso: 1 de 1, em 8 de 9\n",
      " Tamanho do grupo:1\n",
      "Progresso: 1 de 1, em 9 de 9\n",
      " Tamanho do grupo:1\n",
      "Saving dataset\n"
     ]
    }
   ],
   "source": [
    "grupos = find_groups(grafo,dicionario,True,\"teste\",True,1)"
   ]
  },
  {
   "cell_type": "code",
   "execution_count": 91,
   "metadata": {},
   "outputs": [],
   "source": [
    "def plot_graph(graph,dictionary):\n",
    "\n",
    "    isolated_nodes = set(graph.nodes) - set(dictionary.keys())\n",
    "\n",
    "    pos = nx.spring_layout(graph, seed=20)\n",
    "\n",
    "    # nós isolados (vermelhos)\n",
    "    nx.draw_networkx_nodes(graph, pos, nodelist=isolated_nodes, node_color='red', node_size=50, edgecolors='black',\n",
    "                        label=\"Artigos fora da amostra\")\n",
    "\n",
    "    # nós conectados (azuis)\n",
    "    nx.draw_networkx_nodes(graph, pos, nodelist=set(graph.nodes) - isolated_nodes, node_color='skyblue', node_size=50, edgecolors='black',\n",
    "                        label=\"Artigos presentes na amostra\")\n",
    "\n",
    "    nx.draw_networkx_edges(graph, pos)\n",
    "\n",
    "    plt.axis(\"off\") \n",
    "    plt.legend()\n",
    "    plt.show()\n",
    "    \n",
    "    \n",
    "    \n",
    "def encontrar_grupos_isolados(dictionary,graph):\n",
    "    \n",
    "    componentes = list(nx.connected_components(graph))\n",
    "\n",
    "    pos = nx.spring_layout(graph, seed=20)\n",
    "    colors = [\n",
    "    'red', 'blue', 'green', 'orange', 'purple', 'pink', 'cyan', 'yellow',\n",
    "    'brown', 'gray', 'black', 'lime', 'magenta', 'teal', 'navy',\n",
    "    'gold', 'indigo', 'violet', 'turquoise', 'salmon', 'maroon',\n",
    "    'olive', 'chocolate', 'orchid', 'plum', 'slateblue', 'crimson', 'darkgreen',\n",
    "    'darkblue', 'darkred', 'darkorange', 'deeppink', 'deepskyblue', 'dodgerblue',\n",
    "    'greenyellow', 'lightblue', 'lightcoral', 'lightgreen', 'lightpink',\n",
    "    'lightsalmon', 'lightseagreen', 'lightskyblue', 'lime']\n",
    "    plt.figure(figsize=(8, 6))\n",
    "\n",
    "    for i, grupo in enumerate(componentes):\n",
    "        nx.draw_networkx_nodes(graph, pos, nodelist=grupo, node_color=colors[i % len(colors)], label=f'Grupo {i+1}', node_size=200)\n",
    "\n",
    "    nx.draw_networkx_edges(graph, pos, alpha=0.5)\n",
    "    \n",
    "    isolated_nodes = set(graph.nodes) - set(dictionary.keys())\n",
    "\n",
    "\n",
    "    nx.draw_networkx_nodes(graph, pos, nodelist=isolated_nodes, node_color='red', node_size=20, edgecolors='black',\n",
    "                        label=\"Artigos fora da amostra\")\n",
    "\n",
    "    nx.draw_networkx_nodes(graph, pos, nodelist=set(graph.nodes) - isolated_nodes, node_color='skyblue', node_size=20, edgecolors='black',\n",
    "                        label=\"Artigos presentes na amostra\")\n",
    "    nx.draw_networkx_edges(graph, pos)\n",
    "    \n",
    "    #plt.legend()\n",
    "    plt.show()\n",
    "    \n"
   ]
  },
  {
   "cell_type": "code",
   "execution_count": 96,
   "metadata": {},
   "outputs": [],
   "source": [
    "#plot_graph(grafo,dicionario)"
   ]
  },
  {
   "cell_type": "code",
   "execution_count": 95,
   "metadata": {},
   "outputs": [],
   "source": [
    "#encontrar_grupos_isolados(dicionario,grafo)"
   ]
  },
  {
   "cell_type": "code",
   "execution_count": null,
   "metadata": {},
   "outputs": [],
   "source": []
  }
 ],
 "metadata": {
  "kernelspec": {
   "display_name": "Python 3.12.4 ('ilumpy')",
   "language": "python",
   "name": "python3"
  },
  "language_info": {
   "codemirror_mode": {
    "name": "ipython",
    "version": 3
   },
   "file_extension": ".py",
   "mimetype": "text/x-python",
   "name": "python",
   "nbconvert_exporter": "python",
   "pygments_lexer": "ipython3",
   "version": "3.12.4"
  },
  "vscode": {
   "interpreter": {
    "hash": "2ab1bd73c690b42e54c9fbe2846c22f8df556a87378fb86b28527abce6c8771d"
   }
  }
 },
 "nbformat": 4,
 "nbformat_minor": 2
}
